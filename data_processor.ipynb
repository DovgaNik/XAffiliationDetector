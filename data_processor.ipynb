{
 "cells": [
  {
   "cell_type": "code",
   "execution_count": 17,
   "id": "initial_id",
   "metadata": {
    "collapsed": true,
    "ExecuteTime": {
     "end_time": "2024-04-13T14:24:56.282606Z",
     "start_time": "2024-04-13T14:24:56.278622Z"
    }
   },
   "outputs": [],
   "source": [
    "import os\n",
    "import json\n",
    "import re\n",
    "import csv\n",
    "from datetime import datetime\n",
    "\n",
    "start_time = datetime.now()"
   ]
  },
  {
   "cell_type": "code",
   "outputs": [],
   "source": [
    "def remove_emojis_and_links(text):\n",
    "    text = re.sub(r'[^\\x00-\\x7F]+', '', text)\n",
    "    text = re.sub(r'http[s]?://(?:[a-zA-Z]|[0-9]|[$-_@.&+]|[!*\\\\(\\\\),]|(?:%[0-9a-fA-F][0-9a-fA-F]))+', '', text)\n",
    "    text = re.sub(r'@\\w+', '', text)\n",
    "    text = re.sub(r'[^a-zA-Z0-9\\s]|RT', '', text)\n",
    "    text = re.sub(r'\\s+', ' ', text)\n",
    "    text = text.replace(\"\\n\", \"\")\n",
    "    return text.strip()"
   ],
   "metadata": {
    "collapsed": false,
    "ExecuteTime": {
     "end_time": "2024-04-13T14:24:56.305873Z",
     "start_time": "2024-04-13T14:24:56.300190Z"
    }
   },
   "id": "afb03f3be0e324bb",
   "execution_count": 18
  },
  {
   "cell_type": "code",
   "outputs": [
    {
     "name": "stdout",
     "output_type": "stream",
     "text": [
      "266 democrat accounts\n",
      "9135 republican accounts\n"
     ]
    }
   ],
   "source": [
    "path = os.path.join(\"..\", \"..\", \"DATA\")\n",
    "\n",
    "dem_accs_filepath = os.listdir(os.path.join(path, \"dem\"))\n",
    "rep_accs_filepath = os.listdir(os.path.join(path, \"rep\"))\n",
    "    \n",
    "print(f\"{len(dem_accs_filepath)} democrat accounts\")\n",
    "print(f\"{len(rep_accs_filepath)} republican accounts\")"
   ],
   "metadata": {
    "collapsed": false,
    "ExecuteTime": {
     "end_time": "2024-04-13T14:24:56.317845Z",
     "start_time": "2024-04-13T14:24:56.308117Z"
    }
   },
   "id": "c2722b98de63c078",
   "execution_count": 19
  },
  {
   "cell_type": "code",
   "outputs": [],
   "source": [
    "def get_tweets(accs_filepath, party):\n",
    "    tweets = []\n",
    "    for i in range(len(accs_filepath)):\n",
    "        tweets_ = os.listdir(os.path.join(path, party, accs_filepath[i]))\n",
    "        for j in range(len(tweets_)):\n",
    "            try:\n",
    "                data = json.load(open(os.path.join(path, party, accs_filepath[i], tweets_[j])))\n",
    "                tweets.append(data[\"rawContent\"])\n",
    "            except:\n",
    "                print(f\"Error with {os.path.join(path, party, accs_filepath[i], tweets_[j])}\")\n",
    "    return tweets"
   ],
   "metadata": {
    "collapsed": false,
    "ExecuteTime": {
     "end_time": "2024-04-13T14:34:03.393242Z",
     "start_time": "2024-04-13T14:34:03.386770Z"
    }
   },
   "id": "50ab0df21033ed2e",
   "execution_count": 28
  },
  {
   "cell_type": "code",
   "outputs": [
    {
     "name": "stdout",
     "output_type": "stream",
     "text": [
      "Error with tweet_1777428755675320787.json\n",
      "0 democrat tweets, 0.0 tweets per account\n",
      "279576 republican tweets, 30.604926108374386 tweets per account\n"
     ]
    }
   ],
   "source": [
    "dem_tweets = []\n",
    "rep_tweets = []\n",
    "\n",
    "dem_tweets = get_tweets(dem_accs_filepath, \"dem\")\n",
    "rep_tweets = get_tweets(rep_accs_filepath, \"rep\")\n",
    "\n",
    "print(f\"{len(dem_tweets)} democrat tweets, {len(dem_tweets) / len(dem_accs_filepath)} tweets per account\")\n",
    "print(f\"{len(rep_tweets)} republican tweets, {len(rep_tweets) / len(rep_accs_filepath)} tweets per account\")"
   ],
   "metadata": {
    "collapsed": false,
    "ExecuteTime": {
     "end_time": "2024-04-13T14:54:06.125081Z",
     "start_time": "2024-04-13T14:34:03.752915Z"
    }
   },
   "id": "ab8b43382e4c4cf1",
   "execution_count": 29
  },
  {
   "cell_type": "code",
   "outputs": [],
   "source": [
    "def clean_tweets(tweets):\n",
    "    cleaned_tweets = []\n",
    "    for tweet in tweets:\n",
    "        cleaned = remove_emojis_and_links(tweet)\n",
    "        if cleaned.strip() != \"\":\n",
    "            cleaned_tweets.append(cleaned)\n",
    "    return cleaned_tweets"
   ],
   "metadata": {
    "collapsed": false,
    "ExecuteTime": {
     "end_time": "2024-04-13T14:54:06.131656Z",
     "start_time": "2024-04-13T14:54:06.126717Z"
    }
   },
   "id": "15055f4b9acd31e6",
   "execution_count": 30
  },
  {
   "cell_type": "code",
   "outputs": [
    {
     "name": "stdout",
     "output_type": "stream",
     "text": [
      "0 democrat tweets, 0 removed\n",
      "269424 republican tweets, 10152 removed\n"
     ]
    }
   ],
   "source": [
    "dem_tweets_cleaned = []\n",
    "rep_tweets_cleaned = []\n",
    "\n",
    "dem_tweets_cleaned = clean_tweets(dem_tweets)\n",
    "rep_tweets_cleaned = clean_tweets(rep_tweets)\n",
    "\n",
    "print(f\"{len(dem_tweets_cleaned)} democrat tweets, {len(dem_tweets) - len(dem_tweets_cleaned)} removed\")\n",
    "print(f\"{len(rep_tweets_cleaned)} republican tweets, {len(rep_tweets) - len(rep_tweets_cleaned)} removed\")"
   ],
   "metadata": {
    "collapsed": false,
    "ExecuteTime": {
     "end_time": "2024-04-13T14:54:11.321504Z",
     "start_time": "2024-04-13T14:54:06.134086Z"
    }
   },
   "id": "2e1130f39c023ac7",
   "execution_count": 31
  },
  {
   "cell_type": "code",
   "outputs": [],
   "source": [
    "def pick_long_tweets(tweets, length):\n",
    "    long_tweets = []\n",
    "    for tweet in tweets:\n",
    "        if len(tweet.split()) > length:\n",
    "            long_tweets.append(tweet)\n",
    "    return long_tweets"
   ],
   "metadata": {
    "collapsed": false,
    "ExecuteTime": {
     "end_time": "2024-04-13T14:54:11.328671Z",
     "start_time": "2024-04-13T14:54:11.324100Z"
    }
   },
   "id": "72d75117e83b4f1c",
   "execution_count": 32
  },
  {
   "cell_type": "code",
   "outputs": [
    {
     "name": "stdout",
     "output_type": "stream",
     "text": [
      "0 democrat tweets longer than 10 words, 0 removed\n",
      "207921 republican tweets longer than 10 words, 61503 removed\n"
     ]
    }
   ],
   "source": [
    "dem_tweets_long = []\n",
    "rep_tweets_long = []\n",
    "\n",
    "dem_tweets_long = pick_long_tweets(dem_tweets_cleaned, 10)\n",
    "rep_tweets_long = pick_long_tweets(rep_tweets_cleaned, 10)\n",
    "\n",
    "print(f\"{len(dem_tweets_long)} democrat tweets longer than 10 words, {len(dem_tweets_cleaned) - len(dem_tweets_long)} removed\")\n",
    "print(f\"{len(rep_tweets_long)} republican tweets longer than 10 words, {len(rep_tweets_cleaned) - len(rep_tweets_long)} removed\")"
   ],
   "metadata": {
    "collapsed": false,
    "ExecuteTime": {
     "end_time": "2024-04-13T14:54:11.652492Z",
     "start_time": "2024-04-13T14:54:11.331566Z"
    }
   },
   "id": "1d142e48cc423296",
   "execution_count": 33
  },
  {
   "cell_type": "code",
   "outputs": [
    {
     "name": "stdout",
     "output_type": "stream",
     "text": [
      "Final amount of democrat tweets: 0, 0.0 tweets per account, total removed 0\n",
      "Final amount of republican tweets: 207921, 22.760919540229885 tweets per account, total removed 71655\n"
     ]
    }
   ],
   "source": [
    "print(f\"Final amount of democrat tweets: {len(dem_tweets_long)}, {len(dem_tweets_long) / len(dem_accs_filepath)} tweets per account, total removed {len(dem_tweets) - len(dem_tweets_long)}\")\n",
    "print(f\"Final amount of republican tweets: {len(rep_tweets_long)}, {len(rep_tweets_long) / len(rep_accs_filepath)} tweets per account, total removed {len(rep_tweets) - len(rep_tweets_long)}\")"
   ],
   "metadata": {
    "collapsed": false,
    "ExecuteTime": {
     "end_time": "2024-04-13T14:54:11.659529Z",
     "start_time": "2024-04-13T14:54:11.653650Z"
    }
   },
   "id": "9cf4a266ec191b80",
   "execution_count": 34
  },
  {
   "cell_type": "code",
   "outputs": [
    {
     "name": "stdout",
     "output_type": "stream",
     "text": [
      "Final amount of democrat tweets without dublicates: 0, 0.0 tweets per account, total removed 0\n",
      "Final amount of republican tweets without dublicates: 147470, 16.143404488232076 tweets per account, total removed 60451\n"
     ]
    }
   ],
   "source": [
    "dem_tweets_withoutdublicates = []\n",
    "rep_tweets_withoutdublicates = []\n",
    "\n",
    "dem_tweets_withoutdublicates = list(set(dem_tweets_long))\n",
    "rep_tweets_withoutdublicates = list(set(rep_tweets_long))\n",
    "\n",
    "print(f\"Final amount of democrat tweets without dublicates: {len(dem_tweets_withoutdublicates)}, {len(dem_tweets_withoutdublicates) / len(dem_accs_filepath)} tweets per account, total removed {len(dem_tweets_long) - len(dem_tweets_withoutdublicates)}\")\n",
    "print(f\"Final amount of republican tweets without dublicates: {len(rep_tweets_withoutdublicates)}, {len(rep_tweets_withoutdublicates) / len(rep_accs_filepath)} tweets per account, total removed {len(rep_tweets_long) - len(rep_tweets_withoutdublicates)}\")"
   ],
   "metadata": {
    "collapsed": false,
    "ExecuteTime": {
     "end_time": "2024-04-13T15:35:00.746964Z",
     "start_time": "2024-04-13T15:35:00.681881Z"
    }
   },
   "id": "d34e38f49a3641c7",
   "execution_count": 35
  },
  {
   "cell_type": "code",
   "outputs": [],
   "source": [
    "def save(tweets, party):\n",
    "    with open(f\"{party}.csv\", 'w', newline='') as f:\n",
    "        writer = csv.writer(f)\n",
    "        writer.writerow([\"text\"])\n",
    "        for tweet in tweets:\n",
    "            writer.writerow([tweet])"
   ],
   "metadata": {
    "collapsed": false,
    "ExecuteTime": {
     "end_time": "2024-04-13T15:36:05.128363Z",
     "start_time": "2024-04-13T15:36:05.122698Z"
    }
   },
   "id": "c7754ebcdfdec4d8",
   "execution_count": 36
  },
  {
   "cell_type": "code",
   "outputs": [],
   "source": [
    "save(dem_tweets_withoutdublicates, \"democrat\")\n",
    "save(rep_tweets_withoutdublicates, \"republican\")\n",
    "\n",
    "print(f\"Time taken: {datetime.now() - start_time}\")"
   ],
   "metadata": {
    "collapsed": false,
    "ExecuteTime": {
     "end_time": "2024-04-13T15:36:06.286456Z",
     "start_time": "2024-04-13T15:36:05.506553Z"
    }
   },
   "id": "9f3a2a684b32f4ed",
   "execution_count": 37
  }
 ],
 "metadata": {
  "kernelspec": {
   "display_name": "Python 3",
   "language": "python",
   "name": "python3"
  },
  "language_info": {
   "codemirror_mode": {
    "name": "ipython",
    "version": 2
   },
   "file_extension": ".py",
   "mimetype": "text/x-python",
   "name": "python",
   "nbconvert_exporter": "python",
   "pygments_lexer": "ipython2",
   "version": "2.7.6"
  }
 },
 "nbformat": 4,
 "nbformat_minor": 5
}
