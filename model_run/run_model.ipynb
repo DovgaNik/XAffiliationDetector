{
 "cells": [
  {
   "cell_type": "code",
   "id": "initial_id",
   "metadata": {
    "collapsed": true,
    "ExecuteTime": {
     "end_time": "2024-04-16T17:46:39.178408Z",
     "start_time": "2024-04-16T17:46:25.405781Z"
    }
   },
   "source": [
    "import tensorflow as tf\n",
    "import keras\n",
    "from transformers import GPT2Tokenizer\n",
    "import re\n",
    "from sklearn.metrics import roc_auc_score\n",
    "from sklearn.metrics import roc_curve, auc\n",
    "import numpy as np \n",
    "import matplotlib.pyplot as plt\n",
    "import pandas as pd"
   ],
   "outputs": [
    {
     "name": "stdout",
     "output_type": "stream",
     "text": [
      "WARNING:tensorflow:From E:\\affiliationDetector\\model_run\\.conda_env\\Lib\\site-packages\\keras\\src\\losses.py:2976: The name tf.losses.sparse_softmax_cross_entropy is deprecated. Please use tf.compat.v1.losses.sparse_softmax_cross_entropy instead.\n",
      "\n"
     ]
    }
   ],
   "execution_count": 4
  },
  {
   "metadata": {
    "ExecuteTime": {
     "end_time": "2024-04-16T17:47:48.633453Z",
     "start_time": "2024-04-16T17:47:48.621629Z"
    }
   },
   "cell_type": "code",
   "source": [
    "model_dir = \"../../dem_rep/dem_rep_model\"\n",
    "democrat_file = \"../../newtweets/democrat.csv\"\n",
    "republican_file = \"../../newtweets/republican.csv\"\n",
    "model_name = \"gpt2\""
   ],
   "id": "41fbdd154def7ff9",
   "outputs": [],
   "execution_count": 13
  },
  {
   "metadata": {
    "ExecuteTime": {
     "end_time": "2024-04-16T17:46:39.195213Z",
     "start_time": "2024-04-16T17:46:39.189025Z"
    }
   },
   "cell_type": "code",
   "source": "batch_size = 8",
   "id": "b1a5ce217c1f95aa",
   "outputs": [],
   "execution_count": 6
  },
  {
   "metadata": {
    "ExecuteTime": {
     "end_time": "2024-04-16T17:46:39.970929Z",
     "start_time": "2024-04-16T17:46:39.197376Z"
    }
   },
   "cell_type": "code",
   "source": [
    "tokenizer = GPT2Tokenizer.from_pretrained(model_name)\n",
    "tokenizer.pad_token = tokenizer.eos_token"
   ],
   "id": "f7da335fde3af993",
   "outputs": [],
   "execution_count": 7
  },
  {
   "metadata": {
    "ExecuteTime": {
     "end_time": "2024-04-16T17:46:55.797451Z",
     "start_time": "2024-04-16T17:46:39.973438Z"
    }
   },
   "cell_type": "code",
   "source": "new_model = tf.keras.models.load_model(\"../../dem_rep/dem_rep_model\")",
   "id": "b4f4a75b830af166",
   "outputs": [
    {
     "name": "stdout",
     "output_type": "stream",
     "text": [
      "WARNING:tensorflow:From E:\\affiliationDetector\\model_run\\.conda_env\\Lib\\site-packages\\keras\\src\\saving\\legacy\\saved_model\\load.py:107: The name tf.gfile.Exists is deprecated. Please use tf.io.gfile.exists instead.\n",
      "\n",
      "WARNING:tensorflow:From E:\\affiliationDetector\\model_run\\.conda_env\\Lib\\site-packages\\keras\\src\\saving\\legacy\\saved_model\\load.py:1113: The name tf.executing_eagerly_outside_functions is deprecated. Please use tf.compat.v1.executing_eagerly_outside_functions instead.\n",
      "\n"
     ]
    }
   ],
   "execution_count": 8
  },
  {
   "metadata": {
    "ExecuteTime": {
     "end_time": "2024-04-16T17:46:55.818159Z",
     "start_time": "2024-04-16T17:46:55.802517Z"
    }
   },
   "cell_type": "code",
   "source": [
    "def predict_news_class(probabilities, threshold=0.5):\n",
    "    republican_probability, democrat_probability = probabilities[0]\n",
    "    if (republican_probability - democrat_probability)**2 > 0.3:\n",
    "        if republican_probability > threshold:\n",
    "            return \"republican\", republican_probability, democrat_probability, ((republican_probability - democrat_probability)**2)\n",
    "        else:\n",
    "            return \"democrat\", republican_probability, democrat_probability, ((republican_probability - democrat_probability)**2)\n",
    "    else:\n",
    "        return \"neutral\", republican_probability, democrat_probability, ((republican_probability - democrat_probability)**2)"
   ],
   "id": "39e5489396bd5e09",
   "outputs": [],
   "execution_count": 9
  },
  {
   "metadata": {
    "ExecuteTime": {
     "end_time": "2024-04-16T17:46:55.831110Z",
     "start_time": "2024-04-16T17:46:55.820320Z"
    }
   },
   "cell_type": "code",
   "source": [
    "def remove_emojis_and_links(text):\n",
    "    text = re.sub(r'[^\\x00-\\x7F]+', '', text)\n",
    "    text = re.sub(r'http[s]?://(?:[a-zA-Z]|[0-9]|[$-_@.&+]|[!*\\\\(\\\\),]|(?:%[0-9a-fA-F][0-9a-fA-F]))+', '', text)\n",
    "    text = re.sub(r'@\\w+', '', text)\n",
    "    text = re.sub(r'[^a-zA-Z0-9\\s]|RT', '', text)\n",
    "    text = re.sub(r'\\s+', ' ', text)\n",
    "    text = text.replace(\"\\n\", \"\")\n",
    "    return text.strip()"
   ],
   "id": "266c2eeaf27de2f9",
   "outputs": [],
   "execution_count": 10
  },
  {
   "metadata": {
    "ExecuteTime": {
     "end_time": "2024-04-16T17:47:12.657974Z",
     "start_time": "2024-04-16T17:46:55.831110Z"
    }
   },
   "cell_type": "code",
   "source": [
    "inputs = tokenizer(remove_emojis_and_links(input()), return_tensors='tf', max_length=512, truncation=True, padding='max_length')\n",
    "output = new_model(inputs)\n",
    "print(predict_news_class(output), sep = \"\\n\")"
   ],
   "id": "597dd706a24364f",
   "outputs": [
    {
     "name": "stdout",
     "output_type": "stream",
     "text": [
      "('republican', <tf.Tensor: shape=(), dtype=float32, numpy=0.95282745>, <tf.Tensor: shape=(), dtype=float32, numpy=0.047172535>, <tf.Tensor: shape=(), dtype=float32, numpy=0.8202108>)\n"
     ]
    }
   ],
   "execution_count": 11
  }
 ],
 "metadata": {
  "kernelspec": {
   "display_name": "Python 3",
   "language": "python",
   "name": "python3"
  },
  "language_info": {
   "codemirror_mode": {
    "name": "ipython",
    "version": 2
   },
   "file_extension": ".py",
   "mimetype": "text/x-python",
   "name": "python",
   "nbconvert_exporter": "python",
   "pygments_lexer": "ipython2",
   "version": "2.7.6"
  }
 },
 "nbformat": 4,
 "nbformat_minor": 5
}
