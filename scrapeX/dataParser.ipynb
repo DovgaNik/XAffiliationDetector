{
 "cells": [
  {
   "cell_type": "code",
   "execution_count": 38,
   "id": "initial_id",
   "metadata": {
    "collapsed": true,
    "ExecuteTime": {
     "end_time": "2024-04-09T14:58:24.380003Z",
     "start_time": "2024-04-09T14:58:24.375532Z"
    }
   },
   "outputs": [],
   "source": [
    "import os\n",
    "import json\n",
    "import re\n",
    "import csv"
   ]
  },
  {
   "cell_type": "code",
   "outputs": [],
   "source": [
    "def remove_emojis_and_links(text):\n",
    "    text = re.sub(r'[^\\x00-\\x7F]+', '', text)\n",
    "    text = re.sub(r'http[s]?://(?:[a-zA-Z]|[0-9]|[$-_@.&+]|[!*\\\\(\\\\),]|(?:%[0-9a-fA-F][0-9a-fA-F]))+', '', text)\n",
    "    text = text.replace(\"\\n\", \"\")\n",
    "    return text.strip()"
   ],
   "metadata": {
    "collapsed": false,
    "ExecuteTime": {
     "end_time": "2024-04-09T14:28:09.051658Z",
     "start_time": "2024-04-09T14:28:09.045822Z"
    }
   },
   "id": "afb03f3be0e324bb",
   "execution_count": 34
  },
  {
   "cell_type": "code",
   "outputs": [],
   "source": [
    "dem_accs = os.listdir(\"dem\")\n",
    "rep_accs = os.listdir(\"rep\")"
   ],
   "metadata": {
    "collapsed": false,
    "ExecuteTime": {
     "end_time": "2024-04-09T13:39:48.139371Z",
     "start_time": "2024-04-09T13:39:48.134734Z"
    }
   },
   "id": "85ceebb2230dc54e",
   "execution_count": 4
  },
  {
   "cell_type": "code",
   "outputs": [],
   "source": [
    "tweets = []\n",
    "for i in range(len(dem_accs)):\n",
    "    dem_tweets = os.listdir(os.path.join(\"dem\", dem_accs[i]))\n",
    "    for j in range(len(dem_tweets)):\n",
    "        data = json.load(open(os.path.join(\"dem\", dem_accs[i], dem_tweets[j])))\n",
    "        tweet_text = remove_emojis_and_links(data[\"rawContent\"])\n",
    "        if tweet_text != \"\":\n",
    "            tweets.append(tweet_text)"
   ],
   "metadata": {
    "collapsed": false,
    "ExecuteTime": {
     "end_time": "2024-04-09T15:19:31.447363Z",
     "start_time": "2024-04-09T15:19:30.066063Z"
    }
   },
   "id": "ab8b43382e4c4cf1",
   "execution_count": 47
  },
  {
   "cell_type": "code",
   "outputs": [],
   "source": [
    "with open(\"democrats.csv\", 'w', newline='') as f:\n",
    "    writer = csv.writer(f)\n",
    "    writer.writerow([\"text\"])\n",
    "    for tweet in tweets:\n",
    "        writer.writerow([tweet])"
   ],
   "metadata": {
    "collapsed": false,
    "ExecuteTime": {
     "end_time": "2024-04-09T15:19:31.480995Z",
     "start_time": "2024-04-09T15:19:31.448457Z"
    }
   },
   "id": "9f3a2a684b32f4ed",
   "execution_count": 48
  },
  {
   "cell_type": "code",
   "outputs": [],
   "source": [
    "tweets = []\n",
    "for i in range(len(rep_accs)):\n",
    "    rep_tweets = os.listdir(os.path.join(\"rep\", rep_accs[i]))\n",
    "    for j in range(len(rep_tweets)):\n",
    "        data = json.load(open(os.path.join(\"rep\", rep_accs[i], rep_tweets[j])))\n",
    "        tweet_text = remove_emojis_and_links(data[\"rawContent\"])\n",
    "        if tweet_text != \"\":\n",
    "            tweets.append(tweet_text)"
   ],
   "metadata": {
    "collapsed": false,
    "ExecuteTime": {
     "end_time": "2024-04-09T15:28:19.645451Z",
     "start_time": "2024-04-09T15:27:16.497119Z"
    }
   },
   "id": "b84d9e7d606e5e85",
   "execution_count": 49
  },
  {
   "cell_type": "code",
   "outputs": [],
   "source": [
    "with open(\"republicans.csv\", 'w', newline='') as f:\n",
    "    writer = csv.writer(f)\n",
    "    writer.writerow([\"text\"])\n",
    "    for tweet in tweets:\n",
    "        writer.writerow([tweet])"
   ],
   "metadata": {
    "collapsed": false,
    "ExecuteTime": {
     "end_time": "2024-04-09T15:28:29.086235Z",
     "start_time": "2024-04-09T15:28:29.023134Z"
    }
   },
   "id": "177864028d9b5818",
   "execution_count": 50
  },
  {
   "cell_type": "code",
   "outputs": [],
   "source": [],
   "metadata": {
    "collapsed": false
   },
   "id": "7e2ae579c16a809d"
  }
 ],
 "metadata": {
  "kernelspec": {
   "display_name": "Python 3",
   "language": "python",
   "name": "python3"
  },
  "language_info": {
   "codemirror_mode": {
    "name": "ipython",
    "version": 2
   },
   "file_extension": ".py",
   "mimetype": "text/x-python",
   "name": "python",
   "nbconvert_exporter": "python",
   "pygments_lexer": "ipython2",
   "version": "2.7.6"
  }
 },
 "nbformat": 4,
 "nbformat_minor": 5
}
