{
 "cells": [
  {
   "cell_type": "code",
   "execution_count": 51,
   "id": "initial_id",
   "metadata": {
    "collapsed": true,
    "ExecuteTime": {
     "end_time": "2024-04-10T20:06:43.357725Z",
     "start_time": "2024-04-10T20:06:43.347567Z"
    }
   },
   "outputs": [],
   "source": [
    "import os\n",
    "import json\n",
    "import re\n",
    "import csv"
   ]
  },
  {
   "cell_type": "code",
   "outputs": [],
   "source": [
    "def remove_emojis_and_links(text):\n",
    "    text = re.sub(r'[^\\x00-\\x7F]+', '', text)\n",
    "    text = re.sub(r'http[s]?://(?:[a-zA-Z]|[0-9]|[$-_@.&+]|[!*\\\\(\\\\),]|(?:%[0-9a-fA-F][0-9a-fA-F]))+', '', text)\n",
    "    text = re.sub(r'@\\w+', '', text)\n",
    "    text = text.replace(\"\\n\", \"\")\n",
    "    return text.strip()"
   ],
   "metadata": {
    "collapsed": false,
    "ExecuteTime": {
     "end_time": "2024-04-10T20:06:43.367084Z",
     "start_time": "2024-04-10T20:06:43.360454Z"
    }
   },
   "id": "afb03f3be0e324bb",
   "execution_count": 52
  },
  {
   "cell_type": "code",
   "outputs": [],
   "source": [
    "dem_accs = os.listdir(\"dem\")\n",
    "rep_accs = os.listdir(\"rep\")"
   ],
   "metadata": {
    "collapsed": false,
    "ExecuteTime": {
     "end_time": "2024-04-10T20:06:43.389256Z",
     "start_time": "2024-04-10T20:06:43.369256Z"
    }
   },
   "id": "85ceebb2230dc54e",
   "execution_count": 53
  },
  {
   "cell_type": "code",
   "outputs": [],
   "source": [
    "tweets = []\n",
    "for i in range(len(dem_accs)):\n",
    "    dem_tweets = os.listdir(os.path.join(\"dem\", dem_accs[i]))\n",
    "    for j in range(len(dem_tweets)):\n",
    "        data = json.load(open(os.path.join(\"dem\", dem_accs[i], dem_tweets[j])))\n",
    "        tweet_text = remove_emojis_and_links(data[\"rawContent\"])\n",
    "        if tweet_text != \"\":\n",
    "            tweets.append(tweet_text)"
   ],
   "metadata": {
    "collapsed": false,
    "ExecuteTime": {
     "end_time": "2024-04-10T20:07:54.021330Z",
     "start_time": "2024-04-10T20:06:43.391724Z"
    }
   },
   "id": "ab8b43382e4c4cf1",
   "execution_count": 54
  },
  {
   "cell_type": "code",
   "outputs": [],
   "source": [
    "with open(\"democrats.csv\", 'w', newline='') as f:\n",
    "    writer = csv.writer(f)\n",
    "    writer.writerow([\"text\"])\n",
    "    for tweet in tweets:\n",
    "        writer.writerow([tweet])"
   ],
   "metadata": {
    "collapsed": false,
    "ExecuteTime": {
     "end_time": "2024-04-10T20:08:41.564188Z",
     "start_time": "2024-04-10T20:08:41.538894Z"
    }
   },
   "id": "9f3a2a684b32f4ed",
   "execution_count": 57
  },
  {
   "cell_type": "code",
   "outputs": [],
   "source": [
    "tweets = []\n",
    "for i in range(len(rep_accs)):\n",
    "    rep_tweets = os.listdir(os.path.join(\"rep\", rep_accs[i]))\n",
    "    for j in range(len(rep_tweets)):\n",
    "        data = json.load(open(os.path.join(\"rep\", rep_accs[i], rep_tweets[j])))\n",
    "        tweet_text = remove_emojis_and_links(data[\"rawContent\"])\n",
    "        if tweet_text != \"\":\n",
    "            tweets.append(tweet_text)"
   ],
   "metadata": {
    "collapsed": false,
    "ExecuteTime": {
     "end_time": "2024-04-10T20:09:49.148893Z",
     "start_time": "2024-04-10T20:08:41.566587Z"
    }
   },
   "id": "b84d9e7d606e5e85",
   "execution_count": 58
  },
  {
   "cell_type": "code",
   "outputs": [],
   "source": [
    "with open(\"republicans.csv\", 'w', newline='') as f:\n",
    "    writer = csv.writer(f)\n",
    "    writer.writerow([\"text\"])\n",
    "    for tweet in tweets:\n",
    "        writer.writerow([tweet])"
   ],
   "metadata": {
    "collapsed": false,
    "ExecuteTime": {
     "end_time": "2024-04-10T20:09:49.185656Z",
     "start_time": "2024-04-10T20:09:49.150518Z"
    }
   },
   "id": "177864028d9b5818",
   "execution_count": 59
  },
  {
   "cell_type": "code",
   "outputs": [],
   "source": [],
   "metadata": {
    "collapsed": false,
    "ExecuteTime": {
     "end_time": "2024-04-10T20:09:49.192965Z",
     "start_time": "2024-04-10T20:09:49.187689Z"
    }
   },
   "id": "7e2ae579c16a809d",
   "execution_count": 59
  }
 ],
 "metadata": {
  "kernelspec": {
   "display_name": "Python 3",
   "language": "python",
   "name": "python3"
  },
  "language_info": {
   "codemirror_mode": {
    "name": "ipython",
    "version": 2
   },
   "file_extension": ".py",
   "mimetype": "text/x-python",
   "name": "python",
   "nbconvert_exporter": "python",
   "pygments_lexer": "ipython2",
   "version": "2.7.6"
  }
 },
 "nbformat": 4,
 "nbformat_minor": 5
}
