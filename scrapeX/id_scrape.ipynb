{
 "cells": [
  {
   "cell_type": "code",
   "execution_count": 14,
   "id": "initial_id",
   "metadata": {
    "collapsed": true,
    "ExecuteTime": {
     "end_time": "2024-04-12T22:14:42.922299Z",
     "start_time": "2024-04-12T22:14:42.908002Z"
    }
   },
   "outputs": [],
   "source": [
    "list_GOP = []\n",
    "list_DEM = []"
   ]
  },
  {
   "cell_type": "code",
   "outputs": [],
   "source": [
    "with open('GOP', 'r') as f:\n",
    "    for line in f:\n",
    "        list_GOP.append(line.strip())"
   ],
   "metadata": {
    "collapsed": false,
    "ExecuteTime": {
     "end_time": "2024-04-12T22:15:26.523365Z",
     "start_time": "2024-04-12T22:15:26.487503Z"
    }
   },
   "id": "6e27235fce75b497",
   "execution_count": 19
  },
  {
   "cell_type": "code",
   "outputs": [],
   "source": [
    "with open('DMC', 'r') as f:\n",
    "    for line in f:\n",
    "        list_DEM.append(line.strip())"
   ],
   "metadata": {
    "collapsed": false,
    "ExecuteTime": {
     "end_time": "2024-04-12T22:15:26.766459Z",
     "start_time": "2024-04-12T22:15:26.728971Z"
    }
   },
   "id": "4cf53b4a96509512",
   "execution_count": 20
  },
  {
   "cell_type": "code",
   "outputs": [
    {
     "name": "stdout",
     "output_type": "stream",
     "text": [
      "Removed 156203 duplicates from GOP final length 62658\n",
      "Removed 168687 duplicates from DEM final length 73896\n"
     ]
    }
   ],
   "source": [
    "before = len(list_GOP)\n",
    "list_GOP = list(set(list_GOP))\n",
    "print(f\"Removed {before - len(list_GOP)} duplicates from GOP final length {len(list_GOP)}\")\n",
    "\n",
    "before = len(list_DEM)\n",
    "list_DEM = list(set(list_DEM))\n",
    "print(f\"Removed {before - len(list_DEM)} duplicates from DEM final length {len(list_DEM)}\")"
   ],
   "metadata": {
    "collapsed": false,
    "ExecuteTime": {
     "end_time": "2024-04-12T22:15:27.170581Z",
     "start_time": "2024-04-12T22:15:27.087382Z"
    }
   },
   "id": "3009aace5fa55204",
   "execution_count": 21
  },
  {
   "cell_type": "code",
   "outputs": [],
   "source": [
    "for i in range(len(list_GOP) - 1, -1, -1):\n",
    "    for j in range(len(list_DEM) - 1, -1, -1):\n",
    "        if list_GOP[i] == list_DEM[j]:\n",
    "            list_DEM.pop(j)\n",
    "            list_GOP.pop(i)"
   ],
   "metadata": {
    "collapsed": false,
    "ExecuteTime": {
     "end_time": "2024-04-12T22:28:22.507227Z",
     "start_time": "2024-04-12T22:15:29.373124Z"
    }
   },
   "id": "7deab3513814bef8",
   "execution_count": 22
  },
  {
   "cell_type": "code",
   "outputs": [
    {
     "name": "stdout",
     "output_type": "stream",
     "text": [
      "Final length of GOP 47259\n",
      "Final length of DEM 58497\n"
     ]
    }
   ],
   "source": [
    "print(f\"Final length of GOP {len(list_GOP)}\")\n",
    "print(f\"Final length of DEM {len(list_DEM)}\")"
   ],
   "metadata": {
    "collapsed": false,
    "ExecuteTime": {
     "end_time": "2024-04-12T22:28:22.514389Z",
     "start_time": "2024-04-12T22:28:22.508851Z"
    }
   },
   "id": "f15e20970cda3edb",
   "execution_count": 23
  },
  {
   "cell_type": "code",
   "outputs": [],
   "source": [
    "with open('republicans', 'w') as f:\n",
    "    for item in list_GOP:\n",
    "        f.write(\"%s\\n\" % item)"
   ],
   "metadata": {
    "collapsed": false,
    "ExecuteTime": {
     "end_time": "2024-04-12T22:28:22.568665Z",
     "start_time": "2024-04-12T22:28:22.516669Z"
    }
   },
   "id": "a1439b557184cbc8",
   "execution_count": 24
  },
  {
   "cell_type": "code",
   "outputs": [],
   "source": [
    "with open('democrats', 'w') as f:\n",
    "    for item in list_DEM:\n",
    "        f.write(\"%s\\n\" % item)"
   ],
   "metadata": {
    "collapsed": false,
    "ExecuteTime": {
     "end_time": "2024-04-12T22:28:22.630909Z",
     "start_time": "2024-04-12T22:28:22.570920Z"
    }
   },
   "id": "15c0a9ccca05db93",
   "execution_count": 25
  }
 ],
 "metadata": {
  "kernelspec": {
   "display_name": "Python 3",
   "language": "python",
   "name": "python3"
  },
  "language_info": {
   "codemirror_mode": {
    "name": "ipython",
    "version": 2
   },
   "file_extension": ".py",
   "mimetype": "text/x-python",
   "name": "python",
   "nbconvert_exporter": "python",
   "pygments_lexer": "ipython2",
   "version": "2.7.6"
  }
 },
 "nbformat": 4,
 "nbformat_minor": 5
}
